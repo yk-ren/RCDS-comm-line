{
 "cells": [
  {
   "cell_type": "markdown",
   "metadata": {},
   "source": [
    "# Episode 8 - Shell script for Nelle\n",
    "\n",
    "This notebook is an extension to the [Unix Shell lesson](https://kmichali.github.io/SC-shell-novice/) from the [Software Carpentry](https://software-carpentry.org). It decribes how to develop a shell script to solve an example problem that was outlined in [Episode 1](https://kmichali.github.io/SC-shell-novice/01-intro/index.html).\n",
    "\n",
    "### Questions:\n",
    "- How do you run a program on ~1500 data files using the command line?\n",
    "- How do you make your script user-friendly?\n",
    "- How do you check if the data files are valid?\n",
    "\n",
    "### Objectives:\n",
    "- Write a shell script that runs a command or series of commands for a fixed set of files.\n",
    "- Learn about the fundamental scripting building blocks - loops, variables and conditionals.\n",
    "- Learn about argument validation.\n",
    "\n",
    "<hr style=\"border: solid 1px red; margin-top: 1.5% \">\n",
    "\n",
    "### Video\n",
    "Learn with video:\n",
    "- [part 1](https://imperial.cloud.panopto.eu/Panopto/Pages/Viewer.aspx?id=25c07517-6683-4f63-8d24-abd800cac743)\n",
    "- [part 2](https://imperial.cloud.panopto.eu/Panopto/Pages/Viewer.aspx?id=1095126e-44f1-443d-9fc2-abd800ce6f3b)\n",
    "- [part 3](https://imperial.cloud.panopto.eu/Panopto/Pages/Viewer.aspx?id=91ecd5c0-4454-4976-a3e2-abd800d37e0b)\n",
    "- [part 4](https://imperial.cloud.panopto.eu/Panopto/Pages/Viewer.aspx?id=ed699b4f-95e2-4aa6-93bd-abd800d7d2ec)\n",
    "\n",
    "### Practice data in Google Colab\n",
    "If you are viewing this notebook in Colab and have saved it in your Drive (\"File\"->\"Save a copy in Drive\"), run the cell below to download practice data."
   ]
  },
  {
   "cell_type": "code",
   "execution_count": null,
   "metadata": {},
   "outputs": [],
   "source": [
    "%%bash\n",
    "[ -e data-shell ] && echo \"data already exists\" || { wget https://kmichali.github.io/SC-shell-novice/data/data-shell.zip; unzip data-shell.zip; } "
   ]
  },
  {
   "cell_type": "markdown",
   "metadata": {},
   "source": [
    "<hr style=\"border: solid 1px red; margin-top: 1.5% \">"
   ]
  },
  {
   "cell_type": "markdown",
   "metadata": {},
   "source": [
    "## Nelle's pipeline: a typical problem\n",
    "<hr style=\"border: solid 1px gray; margin-top: 1.5% \">\n",
    "\n",
    "Nelle Nemo, a marine biologist, has just returned from a six-month survey of the [North Pacific Gyre](https://en.wikipedia.org/wiki/North_Pacific_Gyre), where she has been sampling gelatinous marine life in the [Great Pacific Garbage Patch](https://en.wikipedia.org/wiki/Great_Pacific_garbage_patch). She has 1520 samples that she’s run through an assay machine to measure the relative abundance of 300 proteins. She needs to run these 1520 files through an imaginary program called **`goostats`** she inherited. On top of this huge task, she has to write up results by the end of the month so her paper can appear in a special issue of Aquatic Goo Letters.\n",
    "\n",
    "The bad news is that if she has to run **`goostats`** by hand using a GUI, she’ll have to select and open a file 1520 times. If **`goostats`** takes 30 seconds to run each file, the whole process will take more than 12 hours of Nelle’s attention. With the shell, Nelle can instead assign her computer this mundane task while she focuses her attention on writing her paper.\n",
    "\n",
    "The next few lessons will explore the ways Nelle can achieve this. More specifically, they explain how she can use a command shell to run the **`goostats`** program, using loops to automate the repetitive steps of entering file names, so that her computer can work while she writes her paper.\n",
    "\n",
    "As a bonus, once she has put a processing pipeline together, she will be able to use it again whenever she collects more data."
   ]
  },
  {
   "cell_type": "markdown",
   "metadata": {},
   "source": [
    "## Preparing to write the script\n",
    "<hr style=\"border: solid 1px gray; margin-top: 1.5% \">\n",
    "\n",
    "Let's change the directory **`data-shell/north-pacific-gyre/2012-07-03/`** and examine the contents."
   ]
  },
  {
   "cell_type": "code",
   "execution_count": 3,
   "metadata": {},
   "outputs": [
    {
     "name": "stdout",
     "output_type": "stream",
     "text": [
      "/mnt/d/OneDrive - Imperial College London/ykOD/icStorage/IC/IcInterns/231120 The Linux Command Line for Scientific Computing/RCDS-comm-line/notebooks\n",
      "01_introduction_and_setup.ipynb*\n",
      "02_navigating_files_directories.ipynb*\n",
      "03_working_files_directories.ipynb*\n",
      "04_pipes_filters.ipynb*\n",
      "05_for_loops.ipynb*\n",
      "06_shell_scripts.ipynb*\n",
      "07_finding_things.ipynb*\n",
      "08_Nelles_script.ipynb*\n",
      "data-shell/\n"
     ]
    }
   ],
   "source": [
    "%%bash\n",
    "pwd\n",
    "ls -F"
   ]
  },
  {
   "cell_type": "code",
   "execution_count": 4,
   "metadata": {},
   "outputs": [
    {
     "name": "stdout",
     "output_type": "stream",
     "text": [
      "d:\\OneDrive - Imperial College London\\ykOD\\icStorage\\IC\\IcInterns\\231120 The Linux Command Line for Scientific Computing\\RCDS-comm-line\\notebooks\\data-shell\\north-pacific-gyre\\2012-07-03\n"
     ]
    }
   ],
   "source": [
    "cd data-shell/north-pacific-gyre/2012-07-03"
   ]
  },
  {
   "cell_type": "code",
   "execution_count": 5,
   "metadata": {},
   "outputs": [
    {
     "name": "stdout",
     "output_type": "stream",
     "text": [
      "total 132\n",
      "-rwxrwxrwx 1 yr222 yr222 4706 Nov 19 21:36 NENE01729A.txt\n",
      "-rwxrwxrwx 1 yr222 yr222 4700 Nov 19 21:36 NENE01729B.txt\n",
      "-rwxrwxrwx 1 yr222 yr222 4671 Nov 19 21:36 NENE01736A.txt\n",
      "-rwxrwxrwx 1 yr222 yr222 4711 Nov 19 21:36 NENE01751A.txt\n",
      "-rwxrwxrwx 1 yr222 yr222 4709 Nov 19 21:36 NENE01751B.txt\n",
      "-rwxrwxrwx 1 yr222 yr222 4701 Nov 19 21:36 NENE01812A.txt\n",
      "-rwxrwxrwx 1 yr222 yr222 4695 Nov 19 21:36 NENE01843A.txt\n",
      "-rwxrwxrwx 1 yr222 yr222 4675 Nov 19 21:36 NENE01843B.txt\n",
      "-rwxrwxrwx 1 yr222 yr222 4672 Nov 19 21:36 NENE01971Z.txt\n",
      "-rwxrwxrwx 1 yr222 yr222 4681 Nov 19 21:36 NENE01978A.txt\n",
      "-rwxrwxrwx 1 yr222 yr222 4689 Nov 19 21:36 NENE01978B.txt\n",
      "-rwxrwxrwx 1 yr222 yr222 3757 Nov 19 21:36 NENE02018B.txt\n",
      "-rwxrwxrwx 1 yr222 yr222 4691 Nov 19 21:36 NENE02040A.txt\n",
      "-rwxrwxrwx 1 yr222 yr222 4667 Nov 19 21:36 NENE02040B.txt\n",
      "-rwxrwxrwx 1 yr222 yr222 4681 Nov 19 21:36 NENE02040Z.txt\n",
      "-rwxrwxrwx 1 yr222 yr222 4686 Nov 19 21:36 NENE02043A.txt\n",
      "-rwxrwxrwx 1 yr222 yr222 4693 Nov 19 21:36 NENE02043B.txt\n",
      "-rwxrwxrwx 1 yr222 yr222  228 Nov 19 21:36 goostats\n"
     ]
    }
   ],
   "source": [
    "%%bash \n",
    "ls -l"
   ]
  },
  {
   "cell_type": "markdown",
   "metadata": {},
   "source": [
    "The directory contains some data files (all 1500 would be impractical) and the **`goostats`** program.  The goal is to run **`goostats`** on every **`txt`** file in the directory.\n",
    "\n",
    "In preparation for writing the scripts, one would normally try to do two things:\n",
    "- examine the data files and make sure that they are all valid\n",
    "- figure out the correct command to run **`goostats`**\n"
   ]
  },
  {
   "cell_type": "markdown",
   "metadata": {},
   "source": [
    "## Validating data files\n",
    "<hr style=\"border: solid 1px gray; margin-top: 1.5% \">\n",
    "\n",
    "Let's have a look at filenames, they seem to follow the same format: **`NENE*[ABZ].txt`**. The square brackets indicate that there is either A, B or Z in that position.  Nelle knows that the **`NENE*Z.txt`** files contain \"Z\" because something went wrong with the input data for the protein measurement and she has to remember to exclude those from her further analysis.\n",
    "\n",
    "She also knows that the files contain measurements for 300 proteins and the line count should reflect that. \n",
    "\n",
    "In the next cell, use **`wc`** (with the right flag) to find out how many lines are in the data files.  Pipe **`wc`** into **`sort`** to be able to detect any outliers easily. What have you found?\n"
   ]
  },
  {
   "cell_type": "code",
   "execution_count": 1,
   "metadata": {},
   "outputs": [],
   "source": [
    "%%bash\n",
    "# use wc and sort to sort line counts for *.txt files"
   ]
  },
  {
   "cell_type": "markdown",
   "metadata": {},
   "source": [
    "You should have found that one of the files is too short (240 lines), the rest of them have 300 lines. The command above should have been **`wc -l *.txt | sort -n`**.  \n",
    "\n",
    "This means that Nelle's script should be checking the length of every data file before processing it, otherwise she may have wrong results."
   ]
  },
  {
   "cell_type": "markdown",
   "metadata": {},
   "source": [
    "## Running goostats\n",
    "<hr style=\"border: solid 1px gray; margin-top: 1.5% \">\n",
    "\n",
    "Nelle has not been given any detail about how to run the **`goostats`** command. She would normally ask her colleagues who used the script before but they are gone on a marine expedition.  Instead, Nelle tries to type the command to see if it produces any useful information.\n",
    "\n",
    "*Note: Nelle uses \"./\" in front of **`goostats`**.  Without it, the shell would report \"command not found\".  This is because the shell only looks for executable commands in a specific list of directories. Since the current directory is never in this list of directories, Nelle has to specify a relative or absolute path to **`goostats`**; **`./goostats`** means look for goostats in the current directory.*"
   ]
  },
  {
   "cell_type": "code",
   "execution_count": 6,
   "metadata": {},
   "outputs": [
    {
     "name": "stderr",
     "output_type": "stream",
     "text": [
      "./goostats: line 11: syntax error: unexpected end of file\n"
     ]
    },
    {
     "ename": "CalledProcessError",
     "evalue": "Command 'b'./goostats\\n'' returned non-zero exit status 2.",
     "output_type": "error",
     "traceback": [
      "\u001b[1;31m---------------------------------------------------------------------------\u001b[0m",
      "\u001b[1;31mCalledProcessError\u001b[0m                        Traceback (most recent call last)",
      "\u001b[1;32m~\\AppData\\Local\\Temp\\ipykernel_9076\\3158321714.py\u001b[0m in \u001b[0;36m<module>\u001b[1;34m\u001b[0m\n\u001b[1;32m----> 1\u001b[1;33m \u001b[0mget_ipython\u001b[0m\u001b[1;33m(\u001b[0m\u001b[1;33m)\u001b[0m\u001b[1;33m.\u001b[0m\u001b[0mrun_cell_magic\u001b[0m\u001b[1;33m(\u001b[0m\u001b[1;34m'bash'\u001b[0m\u001b[1;33m,\u001b[0m \u001b[1;34m''\u001b[0m\u001b[1;33m,\u001b[0m \u001b[1;34m'./goostats\\n'\u001b[0m\u001b[1;33m)\u001b[0m\u001b[1;33m\u001b[0m\u001b[1;33m\u001b[0m\u001b[0m\n\u001b[0m",
      "\u001b[1;32md:\\ProgramData\\Anaconda3\\lib\\site-packages\\IPython\\core\\interactiveshell.py\u001b[0m in \u001b[0;36mrun_cell_magic\u001b[1;34m(self, magic_name, line, cell)\u001b[0m\n\u001b[0;32m   2417\u001b[0m             \u001b[1;32mwith\u001b[0m \u001b[0mself\u001b[0m\u001b[1;33m.\u001b[0m\u001b[0mbuiltin_trap\u001b[0m\u001b[1;33m:\u001b[0m\u001b[1;33m\u001b[0m\u001b[1;33m\u001b[0m\u001b[0m\n\u001b[0;32m   2418\u001b[0m                 \u001b[0margs\u001b[0m \u001b[1;33m=\u001b[0m \u001b[1;33m(\u001b[0m\u001b[0mmagic_arg_s\u001b[0m\u001b[1;33m,\u001b[0m \u001b[0mcell\u001b[0m\u001b[1;33m)\u001b[0m\u001b[1;33m\u001b[0m\u001b[1;33m\u001b[0m\u001b[0m\n\u001b[1;32m-> 2419\u001b[1;33m                 \u001b[0mresult\u001b[0m \u001b[1;33m=\u001b[0m \u001b[0mfn\u001b[0m\u001b[1;33m(\u001b[0m\u001b[1;33m*\u001b[0m\u001b[0margs\u001b[0m\u001b[1;33m,\u001b[0m \u001b[1;33m**\u001b[0m\u001b[0mkwargs\u001b[0m\u001b[1;33m)\u001b[0m\u001b[1;33m\u001b[0m\u001b[1;33m\u001b[0m\u001b[0m\n\u001b[0m\u001b[0;32m   2420\u001b[0m             \u001b[1;32mreturn\u001b[0m \u001b[0mresult\u001b[0m\u001b[1;33m\u001b[0m\u001b[1;33m\u001b[0m\u001b[0m\n\u001b[0;32m   2421\u001b[0m \u001b[1;33m\u001b[0m\u001b[0m\n",
      "\u001b[1;32md:\\ProgramData\\Anaconda3\\lib\\site-packages\\IPython\\core\\magics\\script.py\u001b[0m in \u001b[0;36mnamed_script_magic\u001b[1;34m(line, cell)\u001b[0m\n\u001b[0;32m    140\u001b[0m             \u001b[1;32melse\u001b[0m\u001b[1;33m:\u001b[0m\u001b[1;33m\u001b[0m\u001b[1;33m\u001b[0m\u001b[0m\n\u001b[0;32m    141\u001b[0m                 \u001b[0mline\u001b[0m \u001b[1;33m=\u001b[0m \u001b[0mscript\u001b[0m\u001b[1;33m\u001b[0m\u001b[1;33m\u001b[0m\u001b[0m\n\u001b[1;32m--> 142\u001b[1;33m             \u001b[1;32mreturn\u001b[0m \u001b[0mself\u001b[0m\u001b[1;33m.\u001b[0m\u001b[0mshebang\u001b[0m\u001b[1;33m(\u001b[0m\u001b[0mline\u001b[0m\u001b[1;33m,\u001b[0m \u001b[0mcell\u001b[0m\u001b[1;33m)\u001b[0m\u001b[1;33m\u001b[0m\u001b[1;33m\u001b[0m\u001b[0m\n\u001b[0m\u001b[0;32m    143\u001b[0m \u001b[1;33m\u001b[0m\u001b[0m\n\u001b[0;32m    144\u001b[0m         \u001b[1;31m# write a basic docstring:\u001b[0m\u001b[1;33m\u001b[0m\u001b[1;33m\u001b[0m\u001b[0m\n",
      "\u001b[1;32md:\\ProgramData\\Anaconda3\\lib\\site-packages\\decorator.py\u001b[0m in \u001b[0;36mfun\u001b[1;34m(*args, **kw)\u001b[0m\n\u001b[0;32m    230\u001b[0m             \u001b[1;32mif\u001b[0m \u001b[1;32mnot\u001b[0m \u001b[0mkwsyntax\u001b[0m\u001b[1;33m:\u001b[0m\u001b[1;33m\u001b[0m\u001b[1;33m\u001b[0m\u001b[0m\n\u001b[0;32m    231\u001b[0m                 \u001b[0margs\u001b[0m\u001b[1;33m,\u001b[0m \u001b[0mkw\u001b[0m \u001b[1;33m=\u001b[0m \u001b[0mfix\u001b[0m\u001b[1;33m(\u001b[0m\u001b[0margs\u001b[0m\u001b[1;33m,\u001b[0m \u001b[0mkw\u001b[0m\u001b[1;33m,\u001b[0m \u001b[0msig\u001b[0m\u001b[1;33m)\u001b[0m\u001b[1;33m\u001b[0m\u001b[1;33m\u001b[0m\u001b[0m\n\u001b[1;32m--> 232\u001b[1;33m             \u001b[1;32mreturn\u001b[0m \u001b[0mcaller\u001b[0m\u001b[1;33m(\u001b[0m\u001b[0mfunc\u001b[0m\u001b[1;33m,\u001b[0m \u001b[1;33m*\u001b[0m\u001b[1;33m(\u001b[0m\u001b[0mextras\u001b[0m \u001b[1;33m+\u001b[0m \u001b[0margs\u001b[0m\u001b[1;33m)\u001b[0m\u001b[1;33m,\u001b[0m \u001b[1;33m**\u001b[0m\u001b[0mkw\u001b[0m\u001b[1;33m)\u001b[0m\u001b[1;33m\u001b[0m\u001b[1;33m\u001b[0m\u001b[0m\n\u001b[0m\u001b[0;32m    233\u001b[0m     \u001b[0mfun\u001b[0m\u001b[1;33m.\u001b[0m\u001b[0m__name__\u001b[0m \u001b[1;33m=\u001b[0m \u001b[0mfunc\u001b[0m\u001b[1;33m.\u001b[0m\u001b[0m__name__\u001b[0m\u001b[1;33m\u001b[0m\u001b[1;33m\u001b[0m\u001b[0m\n\u001b[0;32m    234\u001b[0m     \u001b[0mfun\u001b[0m\u001b[1;33m.\u001b[0m\u001b[0m__doc__\u001b[0m \u001b[1;33m=\u001b[0m \u001b[0mfunc\u001b[0m\u001b[1;33m.\u001b[0m\u001b[0m__doc__\u001b[0m\u001b[1;33m\u001b[0m\u001b[1;33m\u001b[0m\u001b[0m\n",
      "\u001b[1;32md:\\ProgramData\\Anaconda3\\lib\\site-packages\\IPython\\core\\magic.py\u001b[0m in \u001b[0;36m<lambda>\u001b[1;34m(f, *a, **k)\u001b[0m\n\u001b[0;32m    185\u001b[0m     \u001b[1;31m# but it's overkill for just that one bit of state.\u001b[0m\u001b[1;33m\u001b[0m\u001b[1;33m\u001b[0m\u001b[0m\n\u001b[0;32m    186\u001b[0m     \u001b[1;32mdef\u001b[0m \u001b[0mmagic_deco\u001b[0m\u001b[1;33m(\u001b[0m\u001b[0marg\u001b[0m\u001b[1;33m)\u001b[0m\u001b[1;33m:\u001b[0m\u001b[1;33m\u001b[0m\u001b[1;33m\u001b[0m\u001b[0m\n\u001b[1;32m--> 187\u001b[1;33m         \u001b[0mcall\u001b[0m \u001b[1;33m=\u001b[0m \u001b[1;32mlambda\u001b[0m \u001b[0mf\u001b[0m\u001b[1;33m,\u001b[0m \u001b[1;33m*\u001b[0m\u001b[0ma\u001b[0m\u001b[1;33m,\u001b[0m \u001b[1;33m**\u001b[0m\u001b[0mk\u001b[0m\u001b[1;33m:\u001b[0m \u001b[0mf\u001b[0m\u001b[1;33m(\u001b[0m\u001b[1;33m*\u001b[0m\u001b[0ma\u001b[0m\u001b[1;33m,\u001b[0m \u001b[1;33m**\u001b[0m\u001b[0mk\u001b[0m\u001b[1;33m)\u001b[0m\u001b[1;33m\u001b[0m\u001b[1;33m\u001b[0m\u001b[0m\n\u001b[0m\u001b[0;32m    188\u001b[0m \u001b[1;33m\u001b[0m\u001b[0m\n\u001b[0;32m    189\u001b[0m         \u001b[1;32mif\u001b[0m \u001b[0mcallable\u001b[0m\u001b[1;33m(\u001b[0m\u001b[0marg\u001b[0m\u001b[1;33m)\u001b[0m\u001b[1;33m:\u001b[0m\u001b[1;33m\u001b[0m\u001b[1;33m\u001b[0m\u001b[0m\n",
      "\u001b[1;32md:\\ProgramData\\Anaconda3\\lib\\site-packages\\IPython\\core\\magics\\script.py\u001b[0m in \u001b[0;36mshebang\u001b[1;34m(self, line, cell)\u001b[0m\n\u001b[0;32m    243\u001b[0m             \u001b[0msys\u001b[0m\u001b[1;33m.\u001b[0m\u001b[0mstderr\u001b[0m\u001b[1;33m.\u001b[0m\u001b[0mflush\u001b[0m\u001b[1;33m(\u001b[0m\u001b[1;33m)\u001b[0m\u001b[1;33m\u001b[0m\u001b[1;33m\u001b[0m\u001b[0m\n\u001b[0;32m    244\u001b[0m         \u001b[1;32mif\u001b[0m \u001b[0margs\u001b[0m\u001b[1;33m.\u001b[0m\u001b[0mraise_error\u001b[0m \u001b[1;32mand\u001b[0m \u001b[0mp\u001b[0m\u001b[1;33m.\u001b[0m\u001b[0mreturncode\u001b[0m\u001b[1;33m!=\u001b[0m\u001b[1;36m0\u001b[0m\u001b[1;33m:\u001b[0m\u001b[1;33m\u001b[0m\u001b[1;33m\u001b[0m\u001b[0m\n\u001b[1;32m--> 245\u001b[1;33m             \u001b[1;32mraise\u001b[0m \u001b[0mCalledProcessError\u001b[0m\u001b[1;33m(\u001b[0m\u001b[0mp\u001b[0m\u001b[1;33m.\u001b[0m\u001b[0mreturncode\u001b[0m\u001b[1;33m,\u001b[0m \u001b[0mcell\u001b[0m\u001b[1;33m,\u001b[0m \u001b[0moutput\u001b[0m\u001b[1;33m=\u001b[0m\u001b[0mout\u001b[0m\u001b[1;33m,\u001b[0m \u001b[0mstderr\u001b[0m\u001b[1;33m=\u001b[0m\u001b[0merr\u001b[0m\u001b[1;33m)\u001b[0m\u001b[1;33m\u001b[0m\u001b[1;33m\u001b[0m\u001b[0m\n\u001b[0m\u001b[0;32m    246\u001b[0m \u001b[1;33m\u001b[0m\u001b[0m\n\u001b[0;32m    247\u001b[0m     \u001b[1;32mdef\u001b[0m \u001b[0m_run_script\u001b[0m\u001b[1;33m(\u001b[0m\u001b[0mself\u001b[0m\u001b[1;33m,\u001b[0m \u001b[0mp\u001b[0m\u001b[1;33m,\u001b[0m \u001b[0mcell\u001b[0m\u001b[1;33m,\u001b[0m \u001b[0mto_close\u001b[0m\u001b[1;33m)\u001b[0m\u001b[1;33m:\u001b[0m\u001b[1;33m\u001b[0m\u001b[1;33m\u001b[0m\u001b[0m\n",
      "\u001b[1;31mCalledProcessError\u001b[0m: Command 'b'./goostats\\n'' returned non-zero exit status 2."
     ]
    }
   ],
   "source": [
    "%%bash\n",
    "./goostats"
   ]
  },
  {
   "cell_type": "markdown",
   "metadata": {},
   "source": [
    "The program is supposed to be run (called) with two arguments - file1 and file2.  This does help but not entirely. What are the two files?\n",
    "\n",
    "Nelle has to resort to examining the program further.  She types **`file goostats`** to see if it is binary or text.  If it is a text file, she can open it and read it.  This is something that we should not have to do but it happens time to time."
   ]
  },
  {
   "cell_type": "code",
   "execution_count": 7,
   "metadata": {},
   "outputs": [
    {
     "name": "stdout",
     "output_type": "stream",
     "text": [
      "goostats: ASCII text, with CRLF line terminators\n"
     ]
    }
   ],
   "source": [
    "%%bash\n",
    "file goostats"
   ]
  },
  {
   "cell_type": "markdown",
   "metadata": {},
   "source": [
    "Good!  **`goostats`** is a text file and Nelle can read it.  "
   ]
  },
  {
   "cell_type": "code",
   "execution_count": 8,
   "metadata": {},
   "outputs": [
    {
     "name": "stdout",
     "output_type": "stream",
     "text": [
      "# check for the right number of input arguments\n",
      "if [ $# -ne 2 ]\n",
      "  then\n",
      "    echo \"goostats file1 file2\"\n",
      "    echo \"call goostats with two arguments\"\n",
      "    exit 1\n",
      "fi\n",
      "\n",
      "sleep 2\n",
      "head -n 3 $1 | cut -d , -f 1 | sort | uniq > $2\n"
     ]
    }
   ],
   "source": [
    "%%bash \n",
    "cat goostats"
   ]
  },
  {
   "cell_type": "markdown",
   "metadata": {},
   "source": [
    "Nelle is happy to find out that the program is simple she can understand most of it.  Looking at the last command in the file **`head -n 3 $1 | cut -d , -f 1 | sort | uniq > $2`**, she concludes that the first argument \"\\\\$1\" should the data file and the second argument \"\\\\$2\" should be the result file.  \n",
    "\n",
    "She also notices that the program is a shell script and it does not really do any statistics but that is ok since this is an imaginary scenario."
   ]
  },
  {
   "cell_type": "markdown",
   "metadata": {},
   "source": [
    "Nelle assembles an example **`goostats`** command and runs it. Since **`goostats`** is a shell script, she can use **`bash`** to run it.  Nelle also decides that the output files will be named **`stats-NENE*[AB].txt`**."
   ]
  },
  {
   "cell_type": "code",
   "execution_count": 9,
   "metadata": {},
   "outputs": [
    {
     "name": "stdout",
     "output_type": "stream",
     "text": [
      "-rwxrwxrwx 1 yr222 yr222 4706 Nov 19 21:36 NENE01729A.txt\n"
     ]
    },
    {
     "name": "stderr",
     "output_type": "stream",
     "text": [
      "goostats: line 11: syntax error: unexpected end of file\n"
     ]
    }
   ],
   "source": [
    "%%bash\n",
    "bash goostats  NENE01729A.txt stats-NENE01729A.txt\n",
    "ls -l *NENE01729A.txt"
   ]
  },
  {
   "cell_type": "markdown",
   "metadata": {},
   "source": [
    "It looks like everything is ok, **`goostats`** run without errors and produced a result file.  Nelle is ready to write a shell script that will process all ~1500 files."
   ]
  },
  {
   "cell_type": "markdown",
   "metadata": {},
   "source": [
    "## Nelle's script\n",
    "<hr style=\"border: solid 1px gray; margin-top: 1.5% \">\n",
    "\n",
    "Nelle takes some time to think about her script and assembles a list of features:\n",
    "- To process multiple files, the script will use a for loop\n",
    "- The script will check if it was called with a right number of arguments (Nelle noticed that the **`goostats`** script contains a construct that may do this)\n",
    "- The script will check if the input file has the correct number of lines\n",
    "- The final script will have two arguments - filename (with wildcars) and the correct line count\n"
   ]
  },
  {
   "cell_type": "markdown",
   "metadata": {},
   "source": [
    "## Step 1 - for loop\n",
    "\n",
    "Write a loop that iterates over all **`NENE*[AB].txt`** files, choose **`filename`** for the variable name. For each iteration, the loop executes the following command **`echo \"bash goostats $filename stats-$filename\"`** (this will not execute **`goostats`**, will only print the command - it is a **dry run**).\n",
    "\n",
    "Use **`nano`** to create such a script and name it **`rungoostats.sh`**.  For now, it will not take any arguments from the command line, we will add them later.  If you need a bit of help, you can have a look at the bottom of this notebook.\n",
    "\n",
    "Test the script, it should produce something like this:\n",
    "\n",
    "```\n",
    "bash goostats NENE01729A.txt stats-NENE01729A.txt\n",
    "bash goostats NENE01729B.txt stats-NENE01729B.txt\n",
    "bash goostats NENE01736A.txt stats-NENE01736A.txt\n",
    "bash goostats NENE01751A.txt stats-NENE01751A.txt\n",
    "bash goostats NENE01751B.txt stats-NENE01751B.txt\n",
    "bash goostats NENE01812A.txt stats-NENE01812A.txt\n",
    "bash goostats NENE01843A.txt stats-NENE01843A.txt\n",
    "bash goostats NENE01843B.txt stats-NENE01843B.txt\n",
    "bash goostats NENE01978A.txt stats-NENE01978A.txt\n",
    "bash goostats NENE01978B.txt stats-NENE01978B.txt\n",
    "bash goostats NENE02018B.txt stats-NENE02018B.txt\n",
    "bash goostats NENE02040A.txt stats-NENE02040A.txt\n",
    "bash goostats NENE02040B.txt stats-NENE02040B.txt\n",
    "bash goostats NENE02043A.txt stats-NENE02043A.txt\n",
    "bash goostats NENE02043B.txt stats-NENE02043B.txt\n",
    "\n",
    "```\n"
   ]
  },
  {
   "cell_type": "markdown",
   "metadata": {},
   "source": [
    "## Step 2 - line count\n",
    "\n",
    "One of the requirements is to count lines in each data file and to test the count. Before we can learn how to test, we need to figure out how to extract the line count into a variable (that will be tested against the desired count).  \n",
    "\n",
    "Often, if faced with a shell scripting problem, one can try out various commands directly on the command line. When a suitable solution is found, one can copy it into the shell script.  See and execute the cells below.\n",
    "\n",
    "If you recall, **`wc -l`** produces the line count plus the file name (e.g., **`wc -l NENE01729A.txt`** produces **`300 NENE01729A.txt`**).  We need to find a way to extract the line count without the filename.  A quick google search reveals a small trick - use **`cat`** and pipe to **`wc -l`**, e.g. **`cat NENE01729A.txt | wc -l`**."
   ]
  },
  {
   "cell_type": "code",
   "execution_count": 10,
   "metadata": {},
   "outputs": [
    {
     "name": "stdout",
     "output_type": "stream",
     "text": [
      "300 NENE01729A.txt\n"
     ]
    }
   ],
   "source": [
    "%%bash \n",
    "wc -l NENE01729A.txt"
   ]
  },
  {
   "cell_type": "code",
   "execution_count": 11,
   "metadata": {},
   "outputs": [
    {
     "name": "stdout",
     "output_type": "stream",
     "text": [
      "300\n"
     ]
    }
   ],
   "source": [
    "%%bash\n",
    "cat NENE01729A.txt | wc -l"
   ]
  },
  {
   "cell_type": "markdown",
   "metadata": {},
   "source": [
    "Now, we need to store the line count in a variable.  This is done as follows:"
   ]
  },
  {
   "cell_type": "code",
   "execution_count": 12,
   "metadata": {},
   "outputs": [
    {
     "name": "stdout",
     "output_type": "stream",
     "text": [
      "300\n"
     ]
    }
   ],
   "source": [
    "%%bash\n",
    "LINECOUNT=$(cat NENE01729A.txt | wc -l)\n",
    "echo $LINECOUNT"
   ]
  },
  {
   "cell_type": "markdown",
   "metadata": {},
   "source": [
    "Note about variables:\n",
    "- in shell scripts, user-defined variables names are often in capitals\n",
    "- at the assignment, use no \"\\$\" before the variable name\n",
    "- at the assignment, make sure there are no spaces surrounding the equal sign (the shell would parse it as arguments to a command)\n",
    "- when recalling the value, use \"\\$\" before the name of the variable\n",
    "\n",
    "You may also remember that we used the \"**`$(command)`**\" syntax when we learned about the command **`find`**.  This forces the command in braces to execute first, the result is assigned to the variable."
   ]
  },
  {
   "cell_type": "markdown",
   "metadata": {},
   "source": [
    "Let's add the **`LINECOUNT`** variable to **`rungoostats.sh`** using **`nano`**.  By now, the script should look something like this:\n",
    "\n",
    "\n",
    "```\n",
    "for filename in NENE*[AB].txt\n",
    "do\n",
    "  LINECOUNT=$(cat $filename | wc -l)\n",
    "  echo $filename $LINECOUNT\n",
    "  echo \"bash goostats $filename stats-$filename\"\n",
    "done\n",
    "\n",
    "```\n"
   ]
  },
  {
   "cell_type": "markdown",
   "metadata": {},
   "source": [
    "## Step 3 - test the line count\n",
    "\n",
    "We are ready to learn about conditionals that let us test an expression and execute different commands depending on the outcome of the test.  Similarly to loops, they are one of the fundamental buiding blocks of programs. \n",
    "\n",
    "We want to compare the value of **`LINECOUNT`** to 300 (the expected line count).  If the comparison is true, the script runs **`goostats`**. If the comparison is false, the script reports a problem and skips the **`goostats`** command.\n",
    "\n",
    "\n",
    "This is the syntax for a conditional: \n",
    "\n",
    "```\n",
    "if [ $LINECOUNT -ne 300 ]\n",
    "  then\n",
    "     echo \"Error: $filename has $LINECOUNT lines.\"\n",
    "  else\n",
    "     echo \"bash goostats $filename stats-$filename\"\n",
    "fi\n",
    "\n",
    "```\n",
    "\n",
    "- the conditional always contain the keywords **`if`**, **`then`**, **`else`** and **`fi`** \n",
    "- the expression is square brackets is evaluated to true or false; it is important that each bracket and each element of the expression are surrounded by spaces as the shell parses the expression as a command followed by arguments\n",
    "- the comparison operator \"-ne\" is used for numerical comparison\n",
    "- more details on conditionals are listed in this [tutorial](https://wiki.imperial.ac.uk/display/HPC/Shell+scripting#Shellscripting-Testconstructs)\n",
    "\n",
    "\n",
    "In **`nano`**, add the conditional to the right place to **`rungoostats.sh`** - inside the loop after the the LINECOUNT variable is assigned a value.  The **`goostats`** command is now inside the conditional. \n",
    "\n",
    "If you have problems, have a look at the bottom of the notebook.  If on a local system, you can test the script in the cell below."
   ]
  },
  {
   "cell_type": "code",
   "execution_count": null,
   "metadata": {},
   "outputs": [],
   "source": [
    "%%bash\n",
    "# this works only on a local system\n",
    "bash rungoostats.sh"
   ]
  },
  {
   "cell_type": "markdown",
   "metadata": {},
   "source": [
    "## Step 4 - the command line arguments\n",
    "\n",
    "Nelle decided that the script will have two command line arguments.  One for file type (e.g. **`NENE*[AB].txt`**) and one for the correct line count.\n",
    "\n",
    "You may remember from the episode on shell scripts that using wildcards in shell scripts arguments is tricky.  Since wildcards expand to a list of files before the shell script runs, it is impossible to know how many arguments this will result in.  This makes using the  positional arguments (\\\\$1,\\\\$2 etc.) inside the script difficult.  In the same episode, we solved the problem by using **`$@`** that refers to all arguments on the command line.  \n",
    "\n",
    "Nelle's script requires a different solution.  If we use **`$@`** , we cannot add a second argument for line count.  There is another solution, we can call **`goostats`** as follows.\n",
    "\n",
    "```\n",
    "bash rungoostats.sh \"NENE*[AB].txt\" 300\n",
    "```\n",
    "If we quote the fist arguement, the wilcard expansion is delayed until the shell reaches the for loop inside the script. This means that, on the command line, we have only two arguments and we can use **`$1`** and **`$2`**.\n",
    "\n",
    "In **`nano`**, change the script:\n",
    "- so it contains the first positional arguments instead of filename in the first line of the for loop\n",
    "- it contains the second positional argument in line count test\n",
    "\n",
    "Test the script in the cell below. If you need help, the solution is at the bottom of the notebook."
   ]
  },
  {
   "cell_type": "code",
   "execution_count": null,
   "metadata": {},
   "outputs": [],
   "source": [
    "%%bash\n",
    "# this works only on a local system\n",
    "bash rungoostats.sh \"NENE*[AB].txt\" 300"
   ]
  },
  {
   "cell_type": "markdown",
   "metadata": {},
   "source": [
    "## Step 5 - argument check\n",
    "\n",
    "We are ready to add another conditional at the top of the script that will test if the script is run with two arguments. This is a very simple but effective check to prevent major errors.\n",
    "\n",
    "We have already used a conditional that has commands for expression resulting in true or false, sometimes a conditional only has commands for true (a hypothetical conditional):\n",
    "\n",
    "```\n",
    "if [ expression ]\n",
    "then\n",
    "  echo \"expression is true\"\n",
    "fi\n",
    "\n",
    "```\n",
    "\n",
    "In Episode 6, we covered the variable **`$#`** that holds the total number of arguments on the command line.  Using **`nano`**, add another conditional to the top of the script that tests if the number of arguments is 2.  If it is not, print a warning message and exit with **`exit`**.\n",
    "\n",
    "If you need help, check the bottom of the notebook. Test in the cell below, try with the correct arguments as well as with incomplete ones."
   ]
  },
  {
   "cell_type": "code",
   "execution_count": null,
   "metadata": {},
   "outputs": [],
   "source": [
    "%%bash\n",
    "# this works only on a local system\n",
    "bash rungoostats.sh \"NENE*[AB].txt\" 300"
   ]
  },
  {
   "cell_type": "markdown",
   "metadata": {},
   "source": [
    "## Step 6 - comments\n",
    "\n",
    "Finally, add comments to the script (start each comment with \"\\#\").  It is a good custom to describe what a script does at the top. You can also add comments to the commands that you may find difficult to remember later."
   ]
  },
  {
   "cell_type": "markdown",
   "metadata": {},
   "source": [
    "## Step 7 - run the script\n",
    "\n",
    "Remove the **`echo`** command from the loop and run the script. Now **`goostats`** will run on each file.\n",
    "\n",
    "The final script should look like something like this:\n",
    "\n",
    "```\n",
    "# this runs goostats on all given files\n",
    "# arg 1: filenames using wildcard, all in quotes\n",
    "# arg 2: correct line count per file\n",
    "\n",
    "if [ $# -ne 2 ]\n",
    "then\n",
    " echo \"usage: bash rungoostats.sh \\\"files\\\" line_count\"\n",
    " exit\n",
    "fi\n",
    "\n",
    "for filename in $1\n",
    "do\n",
    "  echo $filename\n",
    "  LINECOUNT=$(cat $filename | wc -l)\n",
    "  if [ $LINECOUNT -ne $2 ]\n",
    "  then\n",
    "     echo \"Error: $filename has $LINECOUNT lines.\"\n",
    "  else\n",
    "     echo \"bash goostats $filename stats-$filename\"\n",
    "  fi\n",
    "done\n",
    "\n",
    "```\n",
    "\n",
    "You can run in the cell below or on the command line."
   ]
  },
  {
   "cell_type": "code",
   "execution_count": null,
   "metadata": {},
   "outputs": [],
   "source": [
    "%%bash\n",
    "# this works only on a local system\n",
    "bash rungoostats.sh \"NENE*[AB].txt\" 300"
   ]
  },
  {
   "cell_type": "markdown",
   "metadata": {},
   "source": [
    "The script is now reasonably good.  It can be used on various file types with a varying line count. It has comments that, should make it easy to share the scripts with others."
   ]
  },
  {
   "cell_type": "markdown",
   "metadata": {},
   "source": [
    "<hr style=\"border: solid 1px red; margin-top: 1.5% \">\n",
    "\n",
    "## Key points\n",
    "- you have developed a moderately complicated shell script that illustrates the power of the command line - task automation\n",
    "- you know the fundamental building blocks for a shell script - variables, loops and conditionals\n",
    "- you can use the command line arguments for shell scripts\n",
    "- you recognise the importance of using good comments"
   ]
  },
  {
   "cell_type": "markdown",
   "metadata": {},
   "source": [
    "<hr style=\"border: solid 1px gray; margin-top: 1.5% \">\n",
    "\n",
    "## Solution to Step 1\n",
    "\n",
    "```\n",
    "for filename in NENE*[AB].txt\n",
    "do\n",
    "  echo \"bash goostats $filename stats-$filename\"\n",
    "done\n",
    "\n",
    "```"
   ]
  },
  {
   "cell_type": "markdown",
   "metadata": {},
   "source": [
    "## Solution to Step 4\n",
    "\n",
    "```\n",
    "for filename in $1\n",
    "do\n",
    "  echo $filename\n",
    "  LINECOUNT=$(cat $filename | wc -l)\n",
    "  if [ $LINECOUNT -ne $2 ]\n",
    "  then\n",
    "     echo \"Error: $filename has $LINECOUNT lines.\"\n",
    "  else\n",
    "     echo \"bash goostats $filename stats-$filename\"\n",
    "  fi\n",
    "done\n",
    "```"
   ]
  },
  {
   "cell_type": "markdown",
   "metadata": {},
   "source": [
    "## Solution to Step 3\n",
    "\n",
    "```\n",
    "for filename in NENE*[AB].txt\n",
    "do\n",
    "  echo $filename\n",
    "  LINECOUNT=$(cat $filename | wc -l)\n",
    "  if [ $LINECOUNT -ne 300  ]\n",
    "  then\n",
    "     echo \"Error: $filename has $LINECOUNT lines.\"\n",
    "  else\n",
    "     echo \"bash goostats $filename stats-$filename\"\n",
    "  fi\n",
    "done\n",
    "```"
   ]
  },
  {
   "cell_type": "markdown",
   "metadata": {},
   "source": [
    "## Solution to Step 5\n",
    "\n",
    "```\n",
    "if [ $# -ne 2 ]\n",
    "then\n",
    " echo \"usage: bash rungoostats.sh \\\"files\\\" line_count\"\n",
    " exit\n",
    "fi\n",
    "\n",
    "for filename in $1\n",
    "do\n",
    "  echo $filename\n",
    "  LINECOUNT=$(cat $filename | wc -l)\n",
    "  if [ $LINECOUNT -ne $2 ]\n",
    "  then\n",
    "     echo \"Error: $filename has $LINECOUNT lines.\"\n",
    "  else\n",
    "     echo \"bash goostats $filename stats-$filename\"\n",
    "  fi\n",
    "done\n",
    "\n",
    "```"
   ]
  }
 ],
 "metadata": {
  "kernelspec": {
   "display_name": "base",
   "language": "python",
   "name": "python3"
  },
  "language_info": {
   "codemirror_mode": {
    "name": "ipython",
    "version": 3
   },
   "file_extension": ".py",
   "mimetype": "text/x-python",
   "name": "python",
   "nbconvert_exporter": "python",
   "pygments_lexer": "ipython3",
   "version": "3.9.13"
  },
  "vscode": {
   "interpreter": {
    "hash": "e42634819b8c191a5d07eaf23810ff32516dd8d3875f28ec3e488928fbd3c187"
   }
  }
 },
 "nbformat": 4,
 "nbformat_minor": 2
}
