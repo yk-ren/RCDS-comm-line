{
 "cells": [
  {
   "cell_type": "markdown",
   "metadata": {},
   "source": [
    "# Episode 7 - Finding things\n",
    "This notebook is based on a snapshot of [Episode 7](https://kmichali.github.io/SC-shell-novice/07-find/index.html) of the [Unix Shell lesson](https://kmichali.github.io/SC-shell-novice/) from the [Software Carpentry](https://software-carpentry.org). The original material has more detail.\n",
    "\n",
    "### Questions:\n",
    "- How can I find files?\n",
    "- How can I find text in files?\n",
    "\n",
    "### Objectives:\n",
    "- Use **`grep`** to select lines from text files that match simple patterns.\n",
    "- Use **`find`** to find files and directories whose names match simple patterns.\n",
    "- Use the output of one command as the command-line argument(s) to another command.\n",
    "- Explain what is meant by ‘text’ and ‘binary’ files, and why many common tools don’t handle the latter well.\n",
    "\n",
    "<hr style=\"border: solid 1px red; margin-top: 1.5% \">\n",
    "\n",
    "### Video\n",
    "Learn with video:\n",
    "- [part 1](https://imperial.cloud.panopto.eu/Panopto/Pages/Viewer.aspx?id=59575aed-9333-4f38-a2be-abd700c72bb1)\n",
    "- [part 2](https://imperial.cloud.panopto.eu/Panopto/Pages/Viewer.aspx?id=e27ad876-7821-45fb-b957-abd700cb67c2)\n",
    "\n",
    "\n",
    "### Practice data in Google Colab\n",
    "If you are viewing this notebook in Colab and have saved it in your Drive (\"File\"->\"Save a copy in Drive\"), run the cell below to download practice data."
   ]
  },
  {
   "cell_type": "code",
   "execution_count": 12,
   "metadata": {
    "collapsed": true
   },
   "outputs": [
    {
     "name": "stderr",
     "output_type": "stream",
     "text": [
      "--2023-11-24 13:36:41--  https://kmichali.github.io/SC-shell-novice/data/data-shell.zip\n",
      "Resolving kmichali.github.io (kmichali.github.io)... 185.199.108.153, 185.199.111.153, 185.199.109.153, ...\n",
      "Connecting to kmichali.github.io (kmichali.github.io)|185.199.108.153|:443... connected.\n",
      "HTTP request sent, awaiting response... 200 OK\n",
      "Length: 580102 (567K) [application/zip]\n",
      "Saving to: ‘data-shell.zip’\n",
      "\n",
      "     0K .......... .......... .......... .......... ..........  8% 3.15M 0s\n",
      "    50K .......... .......... .......... .......... .......... 17% 31.0M 0s\n",
      "   100K .......... .......... .......... .......... .......... 26% 30.1M 0s\n",
      "   150K .......... .......... .......... .......... .......... 35% 26.6M 0s\n",
      "   200K .......... .......... .......... .......... .......... 44% 20.9M 0s\n",
      "   250K .......... .......... .......... .......... .......... 52% 18.6M 0s\n",
      "   300K .......... .......... .......... .......... .......... 61% 33.8M 0s\n",
      "   350K .......... .......... .......... .......... .......... 70% 31.6M 0s\n",
      "   400K .......... .......... .......... .......... .......... 79% 28.3M 0s\n",
      "   450K .......... .......... .......... .......... .......... 88% 35.4M 0s\n",
      "   500K .......... .......... .......... .......... .......... 97% 32.7M 0s\n",
      "   550K .......... ......                                     100% 32.9M=0.03s\n",
      "\n",
      "2023-11-24 13:36:41 (16.5 MB/s) - ‘data-shell.zip’ saved [580102/580102]\n",
      "\n",
      "-bash: line 1: unzip: command not found\n"
     ]
    },
    {
     "ename": "CalledProcessError",
     "evalue": "Command 'b'[ -e data-shell ] && echo \"data already exists\" || { wget https://kmichali.github.io/SC-shell-novice/data/data-shell.zip; unzip data-shell.zip; } \\n'' returned non-zero exit status 127.",
     "output_type": "error",
     "traceback": [
      "\u001b[1;31m---------------------------------------------------------------------------\u001b[0m",
      "\u001b[1;31mCalledProcessError\u001b[0m                        Traceback (most recent call last)",
      "\u001b[1;32m~\\AppData\\Local\\Temp\\ipykernel_28104\\3245807995.py\u001b[0m in \u001b[0;36m<module>\u001b[1;34m\u001b[0m\n\u001b[1;32m----> 1\u001b[1;33m \u001b[0mget_ipython\u001b[0m\u001b[1;33m(\u001b[0m\u001b[1;33m)\u001b[0m\u001b[1;33m.\u001b[0m\u001b[0mrun_cell_magic\u001b[0m\u001b[1;33m(\u001b[0m\u001b[1;34m'bash'\u001b[0m\u001b[1;33m,\u001b[0m \u001b[1;34m''\u001b[0m\u001b[1;33m,\u001b[0m \u001b[1;34m'[ -e data-shell ] && echo \"data already exists\" || { wget https://kmichali.github.io/SC-shell-novice/data/data-shell.zip; unzip data-shell.zip; } \\n'\u001b[0m\u001b[1;33m)\u001b[0m\u001b[1;33m\u001b[0m\u001b[1;33m\u001b[0m\u001b[0m\n\u001b[0m",
      "\u001b[1;32md:\\ProgramData\\Anaconda3\\lib\\site-packages\\IPython\\core\\interactiveshell.py\u001b[0m in \u001b[0;36mrun_cell_magic\u001b[1;34m(self, magic_name, line, cell)\u001b[0m\n\u001b[0;32m   2417\u001b[0m             \u001b[1;32mwith\u001b[0m \u001b[0mself\u001b[0m\u001b[1;33m.\u001b[0m\u001b[0mbuiltin_trap\u001b[0m\u001b[1;33m:\u001b[0m\u001b[1;33m\u001b[0m\u001b[1;33m\u001b[0m\u001b[0m\n\u001b[0;32m   2418\u001b[0m                 \u001b[0margs\u001b[0m \u001b[1;33m=\u001b[0m \u001b[1;33m(\u001b[0m\u001b[0mmagic_arg_s\u001b[0m\u001b[1;33m,\u001b[0m \u001b[0mcell\u001b[0m\u001b[1;33m)\u001b[0m\u001b[1;33m\u001b[0m\u001b[1;33m\u001b[0m\u001b[0m\n\u001b[1;32m-> 2419\u001b[1;33m                 \u001b[0mresult\u001b[0m \u001b[1;33m=\u001b[0m \u001b[0mfn\u001b[0m\u001b[1;33m(\u001b[0m\u001b[1;33m*\u001b[0m\u001b[0margs\u001b[0m\u001b[1;33m,\u001b[0m \u001b[1;33m**\u001b[0m\u001b[0mkwargs\u001b[0m\u001b[1;33m)\u001b[0m\u001b[1;33m\u001b[0m\u001b[1;33m\u001b[0m\u001b[0m\n\u001b[0m\u001b[0;32m   2420\u001b[0m             \u001b[1;32mreturn\u001b[0m \u001b[0mresult\u001b[0m\u001b[1;33m\u001b[0m\u001b[1;33m\u001b[0m\u001b[0m\n\u001b[0;32m   2421\u001b[0m \u001b[1;33m\u001b[0m\u001b[0m\n",
      "\u001b[1;32md:\\ProgramData\\Anaconda3\\lib\\site-packages\\IPython\\core\\magics\\script.py\u001b[0m in \u001b[0;36mnamed_script_magic\u001b[1;34m(line, cell)\u001b[0m\n\u001b[0;32m    140\u001b[0m             \u001b[1;32melse\u001b[0m\u001b[1;33m:\u001b[0m\u001b[1;33m\u001b[0m\u001b[1;33m\u001b[0m\u001b[0m\n\u001b[0;32m    141\u001b[0m                 \u001b[0mline\u001b[0m \u001b[1;33m=\u001b[0m \u001b[0mscript\u001b[0m\u001b[1;33m\u001b[0m\u001b[1;33m\u001b[0m\u001b[0m\n\u001b[1;32m--> 142\u001b[1;33m             \u001b[1;32mreturn\u001b[0m \u001b[0mself\u001b[0m\u001b[1;33m.\u001b[0m\u001b[0mshebang\u001b[0m\u001b[1;33m(\u001b[0m\u001b[0mline\u001b[0m\u001b[1;33m,\u001b[0m \u001b[0mcell\u001b[0m\u001b[1;33m)\u001b[0m\u001b[1;33m\u001b[0m\u001b[1;33m\u001b[0m\u001b[0m\n\u001b[0m\u001b[0;32m    143\u001b[0m \u001b[1;33m\u001b[0m\u001b[0m\n\u001b[0;32m    144\u001b[0m         \u001b[1;31m# write a basic docstring:\u001b[0m\u001b[1;33m\u001b[0m\u001b[1;33m\u001b[0m\u001b[0m\n",
      "\u001b[1;32md:\\ProgramData\\Anaconda3\\lib\\site-packages\\decorator.py\u001b[0m in \u001b[0;36mfun\u001b[1;34m(*args, **kw)\u001b[0m\n\u001b[0;32m    230\u001b[0m             \u001b[1;32mif\u001b[0m \u001b[1;32mnot\u001b[0m \u001b[0mkwsyntax\u001b[0m\u001b[1;33m:\u001b[0m\u001b[1;33m\u001b[0m\u001b[1;33m\u001b[0m\u001b[0m\n\u001b[0;32m    231\u001b[0m                 \u001b[0margs\u001b[0m\u001b[1;33m,\u001b[0m \u001b[0mkw\u001b[0m \u001b[1;33m=\u001b[0m \u001b[0mfix\u001b[0m\u001b[1;33m(\u001b[0m\u001b[0margs\u001b[0m\u001b[1;33m,\u001b[0m \u001b[0mkw\u001b[0m\u001b[1;33m,\u001b[0m \u001b[0msig\u001b[0m\u001b[1;33m)\u001b[0m\u001b[1;33m\u001b[0m\u001b[1;33m\u001b[0m\u001b[0m\n\u001b[1;32m--> 232\u001b[1;33m             \u001b[1;32mreturn\u001b[0m \u001b[0mcaller\u001b[0m\u001b[1;33m(\u001b[0m\u001b[0mfunc\u001b[0m\u001b[1;33m,\u001b[0m \u001b[1;33m*\u001b[0m\u001b[1;33m(\u001b[0m\u001b[0mextras\u001b[0m \u001b[1;33m+\u001b[0m \u001b[0margs\u001b[0m\u001b[1;33m)\u001b[0m\u001b[1;33m,\u001b[0m \u001b[1;33m**\u001b[0m\u001b[0mkw\u001b[0m\u001b[1;33m)\u001b[0m\u001b[1;33m\u001b[0m\u001b[1;33m\u001b[0m\u001b[0m\n\u001b[0m\u001b[0;32m    233\u001b[0m     \u001b[0mfun\u001b[0m\u001b[1;33m.\u001b[0m\u001b[0m__name__\u001b[0m \u001b[1;33m=\u001b[0m \u001b[0mfunc\u001b[0m\u001b[1;33m.\u001b[0m\u001b[0m__name__\u001b[0m\u001b[1;33m\u001b[0m\u001b[1;33m\u001b[0m\u001b[0m\n\u001b[0;32m    234\u001b[0m     \u001b[0mfun\u001b[0m\u001b[1;33m.\u001b[0m\u001b[0m__doc__\u001b[0m \u001b[1;33m=\u001b[0m \u001b[0mfunc\u001b[0m\u001b[1;33m.\u001b[0m\u001b[0m__doc__\u001b[0m\u001b[1;33m\u001b[0m\u001b[1;33m\u001b[0m\u001b[0m\n",
      "\u001b[1;32md:\\ProgramData\\Anaconda3\\lib\\site-packages\\IPython\\core\\magic.py\u001b[0m in \u001b[0;36m<lambda>\u001b[1;34m(f, *a, **k)\u001b[0m\n\u001b[0;32m    185\u001b[0m     \u001b[1;31m# but it's overkill for just that one bit of state.\u001b[0m\u001b[1;33m\u001b[0m\u001b[1;33m\u001b[0m\u001b[0m\n\u001b[0;32m    186\u001b[0m     \u001b[1;32mdef\u001b[0m \u001b[0mmagic_deco\u001b[0m\u001b[1;33m(\u001b[0m\u001b[0marg\u001b[0m\u001b[1;33m)\u001b[0m\u001b[1;33m:\u001b[0m\u001b[1;33m\u001b[0m\u001b[1;33m\u001b[0m\u001b[0m\n\u001b[1;32m--> 187\u001b[1;33m         \u001b[0mcall\u001b[0m \u001b[1;33m=\u001b[0m \u001b[1;32mlambda\u001b[0m \u001b[0mf\u001b[0m\u001b[1;33m,\u001b[0m \u001b[1;33m*\u001b[0m\u001b[0ma\u001b[0m\u001b[1;33m,\u001b[0m \u001b[1;33m**\u001b[0m\u001b[0mk\u001b[0m\u001b[1;33m:\u001b[0m \u001b[0mf\u001b[0m\u001b[1;33m(\u001b[0m\u001b[1;33m*\u001b[0m\u001b[0ma\u001b[0m\u001b[1;33m,\u001b[0m \u001b[1;33m**\u001b[0m\u001b[0mk\u001b[0m\u001b[1;33m)\u001b[0m\u001b[1;33m\u001b[0m\u001b[1;33m\u001b[0m\u001b[0m\n\u001b[0m\u001b[0;32m    188\u001b[0m \u001b[1;33m\u001b[0m\u001b[0m\n\u001b[0;32m    189\u001b[0m         \u001b[1;32mif\u001b[0m \u001b[0mcallable\u001b[0m\u001b[1;33m(\u001b[0m\u001b[0marg\u001b[0m\u001b[1;33m)\u001b[0m\u001b[1;33m:\u001b[0m\u001b[1;33m\u001b[0m\u001b[1;33m\u001b[0m\u001b[0m\n",
      "\u001b[1;32md:\\ProgramData\\Anaconda3\\lib\\site-packages\\IPython\\core\\magics\\script.py\u001b[0m in \u001b[0;36mshebang\u001b[1;34m(self, line, cell)\u001b[0m\n\u001b[0;32m    243\u001b[0m             \u001b[0msys\u001b[0m\u001b[1;33m.\u001b[0m\u001b[0mstderr\u001b[0m\u001b[1;33m.\u001b[0m\u001b[0mflush\u001b[0m\u001b[1;33m(\u001b[0m\u001b[1;33m)\u001b[0m\u001b[1;33m\u001b[0m\u001b[1;33m\u001b[0m\u001b[0m\n\u001b[0;32m    244\u001b[0m         \u001b[1;32mif\u001b[0m \u001b[0margs\u001b[0m\u001b[1;33m.\u001b[0m\u001b[0mraise_error\u001b[0m \u001b[1;32mand\u001b[0m \u001b[0mp\u001b[0m\u001b[1;33m.\u001b[0m\u001b[0mreturncode\u001b[0m\u001b[1;33m!=\u001b[0m\u001b[1;36m0\u001b[0m\u001b[1;33m:\u001b[0m\u001b[1;33m\u001b[0m\u001b[1;33m\u001b[0m\u001b[0m\n\u001b[1;32m--> 245\u001b[1;33m             \u001b[1;32mraise\u001b[0m \u001b[0mCalledProcessError\u001b[0m\u001b[1;33m(\u001b[0m\u001b[0mp\u001b[0m\u001b[1;33m.\u001b[0m\u001b[0mreturncode\u001b[0m\u001b[1;33m,\u001b[0m \u001b[0mcell\u001b[0m\u001b[1;33m,\u001b[0m \u001b[0moutput\u001b[0m\u001b[1;33m=\u001b[0m\u001b[0mout\u001b[0m\u001b[1;33m,\u001b[0m \u001b[0mstderr\u001b[0m\u001b[1;33m=\u001b[0m\u001b[0merr\u001b[0m\u001b[1;33m)\u001b[0m\u001b[1;33m\u001b[0m\u001b[1;33m\u001b[0m\u001b[0m\n\u001b[0m\u001b[0;32m    246\u001b[0m \u001b[1;33m\u001b[0m\u001b[0m\n\u001b[0;32m    247\u001b[0m     \u001b[1;32mdef\u001b[0m \u001b[0m_run_script\u001b[0m\u001b[1;33m(\u001b[0m\u001b[0mself\u001b[0m\u001b[1;33m,\u001b[0m \u001b[0mp\u001b[0m\u001b[1;33m,\u001b[0m \u001b[0mcell\u001b[0m\u001b[1;33m,\u001b[0m \u001b[0mto_close\u001b[0m\u001b[1;33m)\u001b[0m\u001b[1;33m:\u001b[0m\u001b[1;33m\u001b[0m\u001b[1;33m\u001b[0m\u001b[0m\n",
      "\u001b[1;31mCalledProcessError\u001b[0m: Command 'b'[ -e data-shell ] && echo \"data already exists\" || { wget https://kmichali.github.io/SC-shell-novice/data/data-shell.zip; unzip data-shell.zip; } \\n'' returned non-zero exit status 127."
     ]
    }
   ],
   "source": [
    "%%bash\n",
    "[ -e data-shell ] && echo \"data already exists\" || { wget https://kmichali.github.io/SC-shell-novice/data/data-shell.zip; unzip data-shell.zip; } "
   ]
  },
  {
   "cell_type": "markdown",
   "metadata": {},
   "source": [
    "<hr style=\"border: solid 1px red; margin-top: 1.5% \">"
   ]
  },
  {
   "cell_type": "markdown",
   "metadata": {},
   "source": [
    "In the same way that many of us now use ‘Google’ as a verb meaning ‘to find’, Unix programmers often use the word ‘grep’ to describe process of matching text patterns within files."
   ]
  },
  {
   "cell_type": "markdown",
   "metadata": {},
   "source": [
    "## Matching text in files\n",
    "<hr style=\"border: solid 1px gray; margin-top: 1.5% \">\n",
    "\n",
    "**`grep`** finds and prints lines in files that match a pattern. For our examples, we will use a file that contains three haikus taken from a 1998 competition in Salon magazine. For this set of examples, we’re going to be working in the **`writing`** subdirectory:"
   ]
  },
  {
   "cell_type": "code",
   "execution_count": 13,
   "metadata": {
    "collapsed": true
   },
   "outputs": [
    {
     "name": "stdout",
     "output_type": "stream",
     "text": [
      "[WinError 3] The system cannot find the path specified: 'data-shell/writing'\n",
      "d:\\OneDrive - Imperial College London\\ykOD\\icStorage\\IC\\IcInterns\\231120 The Linux Command Line for Scientific Computing\\RCDS-comm-line\\notebooks\\data-shell\\writing\n"
     ]
    }
   ],
   "source": [
    "cd data-shell/writing"
   ]
  },
  {
   "cell_type": "code",
   "execution_count": 10,
   "metadata": {
    "collapsed": true
   },
   "outputs": [
    {
     "name": "stdout",
     "output_type": "stream",
     "text": [
      "The Tao that is seen\n",
      "Is not the true Tao, until\n",
      "You bring fresh toner.\n",
      "\n",
      "With searching comes loss\n",
      "and the presence of absence:\n",
      "\"My Thesis\" not found.\n",
      "\n",
      "Yesterday it worked\n",
      "Today it is not working\n",
      "Software is like that.\n"
     ]
    }
   ],
   "source": [
    "%%bash\n",
    "cat haiku.txt"
   ]
  },
  {
   "cell_type": "markdown",
   "metadata": {},
   "source": [
    "Let’s find lines that contain the word ‘not’:"
   ]
  },
  {
   "cell_type": "code",
   "execution_count": 3,
   "metadata": {
    "collapsed": true
   },
   "outputs": [
    {
     "name": "stdout",
     "output_type": "stream",
     "text": [
      "Is not the true Tao, until\n",
      "\"My Thesis\" not found.\n",
      "Today it is not working\n"
     ]
    }
   ],
   "source": [
    "%%bash\n",
    "grep not haiku.txt"
   ]
  },
  {
   "cell_type": "markdown",
   "metadata": {},
   "source": [
    "By default, grep searches for a pattern in a case-sensitive way. In addition, the search pattern we have selected does not have to form a complete word, as we will see in the next example.\n",
    "\n",
    "Let’s search for the pattern: ‘The’."
   ]
  },
  {
   "cell_type": "code",
   "execution_count": 4,
   "metadata": {
    "collapsed": true
   },
   "outputs": [
    {
     "name": "stdout",
     "output_type": "stream",
     "text": [
      "The Tao that is seen\n",
      "\"My Thesis\" not found.\n"
     ]
    }
   ],
   "source": [
    "%%bash \n",
    "grep The haiku.txt"
   ]
  },
  {
   "cell_type": "markdown",
   "metadata": {},
   "source": [
    "Two lines that include the letters ‘The’ are displayed, one of which contained our search pattern within a larger word, ‘Thesis’.\n",
    "\n",
    "To restrict matches to lines containing the word ‘The’ on its own, use grep with the **`-w`** option. This will limit matches to word boundaries (spaces, start and end of a line)."
   ]
  },
  {
   "cell_type": "code",
   "execution_count": 5,
   "metadata": {
    "collapsed": true
   },
   "outputs": [
    {
     "name": "stdout",
     "output_type": "stream",
     "text": [
      "The Tao that is seen\n"
     ]
    }
   ],
   "source": [
    "%%bash\n",
    "grep -w The haiku.txt"
   ]
  },
  {
   "cell_type": "markdown",
   "metadata": {},
   "source": [
    "The command can be used to search for phrases.  If the search pattern contains spaces, it has to be surrounded by quotes. In fact, we can use quotes for single words as well."
   ]
  },
  {
   "cell_type": "code",
   "execution_count": 6,
   "metadata": {
    "collapsed": true
   },
   "outputs": [
    {
     "name": "stdout",
     "output_type": "stream",
     "text": [
      "Today it is not working\n"
     ]
    }
   ],
   "source": [
    "%%bash\n",
    "grep -w \"is not\" haiku.txt"
   ]
  },
  {
   "cell_type": "markdown",
   "metadata": {},
   "source": [
    "We may wish to see the line numbers in the output; the option **`-n`** will do just that."
   ]
  },
  {
   "cell_type": "code",
   "execution_count": 7,
   "metadata": {
    "collapsed": true
   },
   "outputs": [
    {
     "name": "stdout",
     "output_type": "stream",
     "text": [
      "5:With searching comes loss\n",
      "9:Yesterday it worked\n",
      "10:Today it is not working\n"
     ]
    }
   ],
   "source": [
    "%%bash\n",
    "grep -n it haiku.txt"
   ]
  },
  {
   "cell_type": "markdown",
   "metadata": {},
   "source": [
    "As with many other Linux commands, we can combine multiple flags.  The next example greps for \"the\" using the word boundary and line numbers flags."
   ]
  },
  {
   "cell_type": "code",
   "execution_count": null,
   "metadata": {
    "collapsed": true
   },
   "outputs": [],
   "source": [
    "%%bash\n",
    "grep -nw the haiku.txt"
   ]
  },
  {
   "cell_type": "markdown",
   "metadata": {},
   "source": [
    "We can also make the search case-insensitive with **`-i`**.  In example below, both \"the\" and \"The\" are matched."
   ]
  },
  {
   "cell_type": "code",
   "execution_count": null,
   "metadata": {
    "collapsed": true
   },
   "outputs": [],
   "source": [
    "%%bash\n",
    "grep -nwi the haiku.txt"
   ]
  },
  {
   "cell_type": "markdown",
   "metadata": {},
   "source": [
    "We may want to use the option **`-v`** to invert our search, i.e., we want to output the lines that do not contain the word \"the\"."
   ]
  },
  {
   "cell_type": "code",
   "execution_count": null,
   "metadata": {
    "collapsed": true
   },
   "outputs": [],
   "source": [
    "%%bash\n",
    "grep -nwv the haiku.txt"
   ]
  },
  {
   "cell_type": "markdown",
   "metadata": {},
   "source": [
    "**`grep`** has many more options, use **`man grep`** to find out."
   ]
  },
  {
   "cell_type": "code",
   "execution_count": null,
   "metadata": {
    "collapsed": true
   },
   "outputs": [],
   "source": [
    "%%bash\n",
    "man grep"
   ]
  },
  {
   "cell_type": "markdown",
   "metadata": {},
   "source": [
    "## Exercise 1\n",
    "<hr style=\"border: solid 1px gray; margin-top: 1.5% \">\n",
    "\n",
    "Which command would result in the following output:\n",
    "\n",
    "```\n",
    "and the presence of absence:\n",
    "\n",
    "```\n",
    "\n",
    "1. **`grep \"of\" haiku.txt`**\n",
    "1. **`grep -E \"of\" haiku.txt`**\n",
    "1. **`grep -w \"of\" haiku.txt`**\n",
    "1. **`grep -i \"of\" haiku.txt`**\n",
    "\n",
    "Solution can be found at the end of this notebook."
   ]
  },
  {
   "cell_type": "markdown",
   "metadata": {},
   "source": [
    "## Regular expressions\n",
    "\n",
    "Search patterns for **`grep`** can include wildcards or, in this context, regular expressions. These can be very complex and powerful, full tutorial on regular expressions is avalable on the Software Carpentry [site](https://v4.software-carpentry.org/regexp/index.html). \n",
    "\n",
    "As an example, we can find lines that have an ‘o’ in the second position with a pattern in the next cell:\n",
    "- **`-E`** turns on regular expression capability\n",
    "- **`^`** anchors the search at the start of line\n",
    "- **`.`** matches exactly one single character\n",
    "- **`o`** matches actual \"o\""
   ]
  },
  {
   "cell_type": "code",
   "execution_count": null,
   "metadata": {
    "collapsed": true
   },
   "outputs": [],
   "source": [
    "%%bash\n",
    "grep -E \"^.o\" haiku.txt"
   ]
  },
  {
   "cell_type": "markdown",
   "metadata": {},
   "source": [
    "## Finding files\n",
    "<hr style=\"border: solid 1px gray; margin-top: 1.5% \">\n",
    "\n",
    "While grep finds lines in files, the **`find`** command finds files themselves. Again, **`find`** has many options; to show how the simplest ones work, we’ll use the directory tree shown below. Our current directory is **`writing`**.\n",
    "\n",
    "![File Tree for Find Example](../fig/find-file-tree.svg)\n",
    "\n",
    "The current directory contains the file **`haiku.txt`** and three other subdirectories - **`data, thesis, tools`**.\n",
    "\n",
    "The **`find`** command without any options will list all files and directories in the specified directory (**`.`** stands for the current directory)."
   ]
  },
  {
   "cell_type": "code",
   "execution_count": null,
   "metadata": {
    "collapsed": true
   },
   "outputs": [],
   "source": [
    "%%bash\n",
    "find ."
   ]
  },
  {
   "cell_type": "markdown",
   "metadata": {},
   "source": [
    "Let's find all directories."
   ]
  },
  {
   "cell_type": "code",
   "execution_count": null,
   "metadata": {
    "collapsed": true
   },
   "outputs": [],
   "source": [
    "%%bash\n",
    "find . -type d"
   ]
  },
  {
   "cell_type": "markdown",
   "metadata": {},
   "source": [
    "Let's find all files."
   ]
  },
  {
   "cell_type": "code",
   "execution_count": null,
   "metadata": {
    "collapsed": true
   },
   "outputs": [],
   "source": [
    "%%bash \n",
    "find . -type f"
   ]
  },
  {
   "cell_type": "markdown",
   "metadata": {},
   "source": [
    "We can match by name too."
   ]
  },
  {
   "cell_type": "code",
   "execution_count": null,
   "metadata": {
    "collapsed": true
   },
   "outputs": [],
   "source": [
    "%%bash\n",
    "find . -name two.txt"
   ]
  },
  {
   "cell_type": "markdown",
   "metadata": {},
   "source": [
    "Let's use a wildcard to find all **`.txt`** files."
   ]
  },
  {
   "cell_type": "code",
   "execution_count": null,
   "metadata": {
    "collapsed": true
   },
   "outputs": [],
   "source": [
    "%%bash\n",
    "find . -name \"*.txt\""
   ]
  },
  {
   "cell_type": "markdown",
   "metadata": {},
   "source": [
    "Note: wildcard expressions have to be surrounded by quotes, without quotes the wildcard expression will expand before the find command executes - since there is only one **`.txt`** file in the current directory, the command returns only one file **`haiku.txt`**."
   ]
  },
  {
   "cell_type": "code",
   "execution_count": null,
   "metadata": {
    "collapsed": true
   },
   "outputs": [],
   "source": [
    "%%bash\n",
    "find . -name *.txt"
   ]
  },
  {
   "cell_type": "markdown",
   "metadata": {},
   "source": [
    "## Combining find with other commands\n",
    "<hr style=\"border: solid 1px gray; margin-top: 1.5% \">\n",
    "\n",
    "Often, it is useful to find a list of files matching some criteria and then perform another command on the list.  For example, we may want to count lines in each **`.txt`** file in the directory **`writing`**.\n",
    "\n",
    "The pipe utility will not work in this case **`find . -name \"*.txt\" | wc -l\"`** would cound lines in the output of **`find`** \n",
    "\n",
    "```\n",
    "./haiku.txt\n",
    "./data/two.txt\n",
    "./data/LittleWomen.txt\n",
    "./data/one.txt\n",
    "\n",
    "```\n",
    "and the result would be 4 (that is not what we wanted).\n"
   ]
  },
  {
   "cell_type": "code",
   "execution_count": null,
   "metadata": {
    "collapsed": true
   },
   "outputs": [],
   "source": [
    "%%bash\n",
    "# this does not work as intended\n",
    "find . -name \"*.txt\" | wc -l"
   ]
  },
  {
   "cell_type": "markdown",
   "metadata": {},
   "source": [
    "We need to nest the commands, so **`wc`** operates on the output of **`find`**.  If we surround **`find`** in **`$()`**, it will be executed before **`wc`**. \n",
    "\n",
    "*Note: The same could be achieved with two backticks.*"
   ]
  },
  {
   "cell_type": "code",
   "execution_count": null,
   "metadata": {
    "collapsed": true
   },
   "outputs": [],
   "source": [
    "%%bash\n",
    " wc -l $(find . -name \"*.txt\")"
   ]
  },
  {
   "cell_type": "markdown",
   "metadata": {},
   "source": [
    "Working on Linux, one often finds themselves looking for a text (for example piece of python code) in certain type of files (for example python scripts - **`*.py`**).  The next command will be handy in these situations.\n",
    "\n",
    "The example below, uses **`grep`** to find pattern \"FE\" (iron atoms) in **`*.pdb`** files the **`data-shell`** directory (**`find`** operates on **`..`** meaning directory above)."
   ]
  },
  {
   "cell_type": "code",
   "execution_count": null,
   "metadata": {
    "collapsed": true
   },
   "outputs": [],
   "source": [
    "%%bash\n",
    "grep FE $(find .. -name \"*.pdb\")"
   ]
  },
  {
   "cell_type": "markdown",
   "metadata": {},
   "source": [
    "## Exercise 2\n",
    "<hr style=\"border: solid 1px gray; margin-top: 1.5% \">\n",
    "\n",
    "The **`-v`** option to grep inverts pattern matching, so that only lines which do not match the pattern are printed.\n",
    "\n",
    "Given that, which of the following commands will find all files in **`../data`** whose names end in s.txt but whose names also do not contain the string net? (For example, animals.txt or amino-acids.txt but not planets.txt.) \n",
    "\n",
    "Once you have thought about your answer, you can test the commands in the data-shell directory.\n",
    "\n",
    "1. **`find ../data -name \"*s.txt\" | grep -v net`**\n",
    "1. **`find ../data -name *s.txt | grep -v net`**\n",
    "1. **`grep -v net $(find ../data -name \"*s.txt\")`**\n",
    "1. None of the above.\n",
    "\n",
    "Solution can be found at the end of this notebook."
   ]
  },
  {
   "cell_type": "markdown",
   "metadata": {},
   "source": [
    "## Exercise 3\n",
    "<hr style=\"border: solid 1px gray; margin-top: 1.5% \">\n",
    "\n",
    "The find command can be given several other criteria known as “tests” to locate files with specific attributes, such as creation time, size, permissions, or ownership. Use man find to explore these, and then write a single command to find all files in or below the current directory that are owned by the user ahmed and were modified in the last 24 hours.\n",
    "\n",
    "Hint 1: you will need to use three tests: -type, -mtime, and -user.\n",
    "\n",
    "Hint 2: The value for -mtime will need to be negative—why?\n",
    "\n",
    "Solution can be found at the end of this notebook."
   ]
  },
  {
   "cell_type": "markdown",
   "metadata": {},
   "source": [
    "## Worked example\n",
    "You and your friend, having just finished reading Little Women by Louisa May Alcott, are in an argument. Of the four sisters in the book, Jo, Meg, Beth, and Amy, your friend thinks that Jo was the most mentioned. You, however, are certain it was Amy. Luckily, you have a file LittleWomen.txt containing the full text of the novel (**`data-shell/writing/data/LittleWomen.txt`**). Using a for loop, how would you tabulate the number of times each of the four sisters is mentioned?\n",
    "\n",
    "\n",
    "Hint: one solution might employ the commands grep and wc and a |, while another might utilize grep options. There is often more than one way to solve a programming task, so a particular solution is usually chosen based on a combination of yielding the correct result, elegance, readability, and speed.\n",
    "\n",
    "Note: **`grep -o`** will match every occurence, even if there are two on the same line. This option is best combined with **`wc -l`**."
   ]
  },
  {
   "cell_type": "code",
   "execution_count": null,
   "metadata": {
    "collapsed": true
   },
   "outputs": [],
   "source": [
    "%%bash \n",
    "\n",
    "cd data\n",
    "for sis in Jo Meg Beth Amy\n",
    "do\n",
    "  echo $sis\n",
    "  grep -wcio $sis LittleWomen.txt\n",
    "done"
   ]
  },
  {
   "cell_type": "code",
   "execution_count": null,
   "metadata": {
    "collapsed": true
   },
   "outputs": [],
   "source": [
    "%%bash \n",
    "\n",
    "cd data\n",
    "for sis in Jo Meg Beth Amy\n",
    "do\n",
    "  echo $sis\n",
    "  grep -woi $sis LittleWomen.txt | wc -l\n",
    "done"
   ]
  },
  {
   "cell_type": "markdown",
   "metadata": {},
   "source": [
    "## Binary files\n",
    "<hr style=\"border: solid 1px gray; margin-top: 1.5% \">\n",
    "\n",
    "\n",
    "We have focused exclusively on finding patterns in text files (files that contain readable text). What if your data is stored as images, in databases, or in some other format? These formats are in binary format and are not human-readable.\n",
    "\n",
    "A handful of tools extend grep to handle a few non-text formats. But a more generalizable approach is to convert the data to text, or extract the text-like elements from the data. On the one hand, it makes simple things easy to do. On the other hand, complex things are usually impossible.\n",
    "\n",
    "Binary files are usually better served by using a programming language and libraries that can read and process a specific binary format."
   ]
  },
  {
   "cell_type": "markdown",
   "metadata": {},
   "source": [
    "<hr style=\"border: solid 1px red; margin-top: 1.5% \">\n",
    "\n",
    "## Key points\n",
    "\n",
    "- **`find`** finds files with specific properties that match patterns.\n",
    "- **`grep`** selects lines in files that match patterns.\n",
    "- **`$(command)`** inserts a command’s output in place."
   ]
  },
  {
   "cell_type": "markdown",
   "metadata": {},
   "source": [
    "<hr style=\"border: solid 1px gray; margin-top: 1.5% \">\n",
    "\n",
    "## Solution to Exercise 1\n",
    "\n",
    "The correct answer is 3, because the -w option looks only for whole-word matches. The other options will also match ‘of’ when part of another word."
   ]
  },
  {
   "cell_type": "markdown",
   "metadata": {},
   "source": [
    "## Solution to Exercise 2\n",
    "\n",
    "The correct answer is 1. Putting the match expression in quotes prevents the shell expanding it, so it gets passed to the find command.\n",
    "\n",
    "Option 2 is incorrect because the shell expands *s.txt instead of passing the wildcard expression to find.\n",
    "\n",
    "Option 3 is incorrect because it searches the contents of the files for lines which do not match ‘net’, rather than searching the file names."
   ]
  },
  {
   "cell_type": "markdown",
   "metadata": {},
   "source": [
    "## Solution to Exercise 3\n",
    "\n",
    "Assuming that Nelle’s home is our working directory we type:\n",
    "\n",
    "```\n",
    "find ./ -type f -mtime -1 -user ahmed\n",
    "\n",
    "```"
   ]
  }
 ],
 "metadata": {
  "kernelspec": {
   "display_name": "base",
   "language": "python",
   "name": "python3"
  },
  "language_info": {
   "codemirror_mode": {
    "name": "ipython",
    "version": 3
   },
   "file_extension": ".py",
   "mimetype": "text/x-python",
   "name": "python",
   "nbconvert_exporter": "python",
   "pygments_lexer": "ipython3",
   "version": "3.9.13 (main, Aug 25 2022, 23:51:50) [MSC v.1916 64 bit (AMD64)]"
  },
  "vscode": {
   "interpreter": {
    "hash": "e42634819b8c191a5d07eaf23810ff32516dd8d3875f28ec3e488928fbd3c187"
   }
  }
 },
 "nbformat": 4,
 "nbformat_minor": 2
}
