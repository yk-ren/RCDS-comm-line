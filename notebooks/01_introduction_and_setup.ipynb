{
 "cells": [
  {
   "cell_type": "markdown",
   "metadata": {},
   "source": [
    "# Episode 1 - Introduction and setup\n",
    "This notebook is based on a snapshot of [Episode 1](https://kmichali.github.io/SC-shell-novice/01-intro/index.html) of the [Unix Shell lesson](https://kmichali.github.io/SC-shell-novice/) from the [Software Carpentry](https://software-carpentry.org). The original material has more detail.\n",
    "\n",
    "### Questions:\n",
    "- What is a command shell and why would I use one?\n",
    "- How is this lesson going to work?\n",
    "\n",
    "### Objectives:\n",
    "- Explain how the shell relates to the keyboard, the screen, the operating system, and users’ programs.\n",
    "- Explain when and why command-line interfaces should be used instead of graphical interfaces.\n",
    "\n",
    "### Video\n",
    "Learn with [video](https://imperial.cloud.panopto.eu/Panopto/Pages/Viewer.aspx?id=abd2d252-6c29-4171-81b9-abd500efe82a).\n",
    "\n",
    "<hr style=\"border: solid 1px red; margin-top: 1.5% \">"
   ]
  },
  {
   "cell_type": "code",
   "execution_count": 1,
   "metadata": {},
   "outputs": [
    {
     "name": "stdout",
     "output_type": "stream",
     "text": [
      "$SHELL\n"
     ]
    }
   ],
   "source": [
    "echo $SHELL"
   ]
  },
  {
   "cell_type": "markdown",
   "metadata": {},
   "source": [
    "## Background\n",
    "<hr style=\"border: solid 1px gray; margin-top: 1.5% \">\n",
    "\n",
    "Humans and computers commonly interact in many different ways, such as through a keyboard and mouse, touch screen interfaces, or using speech recognition systems. The most widely used way to interact with personal computers is called a graphical user interface (GUI). With a GUI, we give instructions by clicking a mouse and using menu-driven interactions.\n",
    "\n",
    "While the visual aid of a GUI makes it intuitive to learn, this way of delivering instructions to a computer scales very poorly. Imagine the following task: run two programs on multiple data files and save a section from the result files in one final document.\n",
    "\n",
    "Using a GUI, you would not only be clicking at your desk for several hours, but you could potentially also commit an error in the process of completing this repetitive task. This is where we take advantage of the Unix shell that is very good at doing repetitive tasks automatically. With the proper commands, the shell can repeat tasks with or without some modification as many times as we want.\n"
   ]
  },
  {
   "cell_type": "markdown",
   "metadata": {},
   "source": [
    "## The Shell\n",
    "<hr style=\"border: solid 1px gray; margin-top: 1.5% \">\n",
    "\n",
    "The shell is a program where users can type commands. With the shell, it’s possible to invoke complicated programs like climate modeling software or simple commands that create an empty directory with only one line of code. The most popular Unix shell is Bash (the Bourne Again SHell — so-called because it’s derived from a shell written by Stephen Bourne). Bash is the default shell on most modern implementations of Unix and in most packages that provide Unix-like tools for Windows.\n",
    "\n",
    "Using the shell will take some effort and some time to learn. However, with just a few commands, you will be able to accomplish complicated tasks.  You can also save a sequence of commands and repeat those later to reproduce your experiments.\n",
    "\n",
    "\n",
    "In addition, the command line is often the easiest way to interact with remote machines and supercomputers. Familiarity with the shell is near essential to run a variety of specialized tools and resources including high-performance computing systems."
   ]
  },
  {
   "cell_type": "markdown",
   "metadata": {},
   "source": [
    "## Shell and commands\n",
    "<hr style=\"border: solid 1px gray; margin-top: 1.5% \">\n",
    "\n",
    "Below is a picture of a shell running bash version 4.2:\n",
    "\n",
    "![Shell](../fig/shell.png)\n",
    "\n",
    "The **`$`** symbol is called the prompt.  One types **commands and their arguments** beside the prompt and executes by pressing **`Enter`**. For this reason the shell is often called the command line.\n",
    "\n",
    "- If a command exists and is in a correct format, shell will execute.  Depending on a command, an output may be printed before the shell displays a new instance of the prompt.\n",
    "\n",
    "- If a command does not exist or if the format is not as expected, it will produce an error. Below is an example of an error message that resulted from the user typing a command that does not exist.\n",
    "\n",
    "![Shell](../fig/shell_error.png)\n",
    "\n",
    "In principle, there are two categories of commands:\n",
    "- **commands that are part of the Linux system** - commands for general tasks that have to do with file, directory and system management, programming language interpreters and compilers, text editors etc.\n",
    "\n",
    "- **user-defined commands** - commands that run software packages and scripts that are installed by a user; for example scientific software, commercial software packages etc."
   ]
  },
  {
   "cell_type": "markdown",
   "metadata": {},
   "source": [
    "## Nelle's pipeline: a typical problem\n",
    "<hr style=\"border: solid 1px gray; margin-top: 1.5% \">\n",
    "\n",
    "Nelle Nemo, a marine biologist, has just returned from a six-month survey of the [North Pacific Gyre](https://en.wikipedia.org/wiki/North_Pacific_Gyre), where she has been sampling gelatinous marine life in the [Great Pacific Garbage Patch](https://en.wikipedia.org/wiki/Great_Pacific_garbage_patch). She has 1520 samples that she’s run through an assay machine to measure the relative abundance of 300 proteins. She needs to run these 1520 files through an imaginary program called **`goostats`** she inherited. On top of this huge task, she has to write up results by the end of the month so her paper can appear in a special issue of Aquatic Goo Letters.\n",
    "\n",
    "The bad news is that if she has to run **`goostats`** by hand using a GUI, she’ll have to select and open a file 1520 times. If **`goostats`** takes 30 seconds to run each file, the whole process will take more than 12 hours of Nelle’s attention. With the shell, Nelle can instead assign her computer this mundane task while she focuses her attention on writing her paper.\n",
    "\n",
    "The next few lessons will explore the ways Nelle can achieve this. More specifically, they explain how she can use a command shell to run the **`goostats`** program, using loops to automate the repetitive steps of entering file names, so that her computer can work while she writes her paper.\n",
    "\n",
    "As a bonus, once she has put a processing pipeline together, she will be able to use it again whenever she collects more data."
   ]
  },
  {
   "cell_type": "markdown",
   "metadata": {},
   "source": [
    "## This lesson is in Jupyter Notebooks\n",
    "<hr style=\"border: solid 1px gray; margin-top: 1.5% \">\n",
    "\n",
    "This lesson is based on the materials by [Software Carpentry](https://kmichali.github.io/SC-shell-novice/).\n",
    "\n",
    "There are an excellent resource for self-study that do not contain interactive examples.  I recreated a streamlined version in Jupyter Notebooks in an attempt to provide an environment where students can follow in-class instruction, execute commands and practice in one place.\n",
    "\n",
    "Jupyter Notebooks include non-interactive text and interactive cells (in light grey with \"In[  ]\" to the left). **These cells can be executed, place the mouse cursor in the cell and press Shift+Enter.**\n",
    "\n",
    "Below is an executable cell containg Linux command **`ls`**.  Execute with Shift+Enter to test your notebook, if all is ok you should see a list of files and directories after you execute the cell."
   ]
  },
  {
   "cell_type": "code",
   "execution_count": 1,
   "metadata": {},
   "outputs": [
    {
     "name": "stdout",
     "output_type": "stream",
     "text": [
      " ������ D �еľ��� Data\n",
      " �������к��� B87B-0116\n",
      "\n",
      " d:\\OneDrive - Imperial College London\\ykOD\\icStorage\\IC\\IcInterns\\231120 The Linux Command Line for Scientific Computing\\RCDS-comm-line\\notebooks ��Ŀ¼\n",
      "\n",
      "2023/11/19  23:32    <DIR>          .\n",
      "2023/11/19  23:32    <DIR>          ..\n",
      "2023/11/19  21:36            10,824 01_introduction_and_setup.ipynb\n",
      "2023/11/19  21:36            14,627 02_navigating_files_directories.ipynb\n",
      "2023/11/19  21:36            19,052 03_working_files_directories.ipynb\n",
      "2023/11/19  21:36            15,513 04_pipes_filters.ipynb\n",
      "2023/11/19  21:36            13,966 05_for_loops.ipynb\n",
      "2023/11/19  21:36            21,290 06_shell_scripts.ipynb\n",
      "2023/11/19  21:36            20,365 07_finding_things.ipynb\n",
      "2023/11/19  21:36            25,943 08_Nelles_script.ipynb\n",
      "2023/11/19  23:32    <DIR>          data-shell\n",
      "               8 ���ļ�        141,580 �ֽ�\n",
      "               3 ��Ŀ¼ 194,841,853,952 �����ֽ�\n"
     ]
    }
   ],
   "source": [
    "ls"
   ]
  },
  {
   "cell_type": "markdown",
   "metadata": {},
   "source": [
    "## Notebook or the shell?\n",
    "<hr style=\"border: solid 1px gray; margin-top: 1.5% \">\n",
    "\n",
    "Jupyter Notebooks are great to start with because they combine interactive elements and intructions in one place.  However, most of your work will eventually be done in a \"real\" shell environment that contains only commands.  In this lesson, we start with Jupyter Notebooks and move to the shell for the later parts of the course.\n",
    "\n",
    "\n",
    "### Magic command\n",
    "Jupyter Notebooks can execute shell commands and various programming language instructions but a defaut Notebook cell expects the content to be in Python. One can instruct the notebook to use bash instead by typing **`%%bash`** on the first line of the cell.  This is so called \"magic\" command and is not used outside Jupyter Notebooks.  With this magic command, each notebook cells becomes a single instance of the shell.  I use the magic command **`%%bash`** in all cells except the cells that contain a sole **`cd`** (change working directory) command.\n",
    "\n",
    "For those of you familiar with Jupyter and are interested in a more elegant solution, one can install [custom bash kernel](https://github.com/takluyver/bash_kernel/tree/master/bash_kernel). This means that each cell will run bash by default (and one can skip the magic command all together).\n",
    "\n",
    "\n",
    "### Cell order matters \n",
    "Finally, **the notebook cells have have to be executed from top to bottom**.  Executing out of order may produce errors because some cells depend on the output of the cells above."
   ]
  },
  {
   "cell_type": "markdown",
   "metadata": {},
   "source": [
    "<hr style=\"border: solid 1px red; margin-top: 1.5% \">\n",
    "\n",
    "## Key points\n",
    "- A shell is a program whose primary purpose is to read commands and run other programs.\n",
    "- The shell’s main advantages are its high action-to-keystroke ratio, its support for automating repetitive tasks, and its capacity to access networked machines.\n",
    "- The shell’s main disadvantages are its primarily textual nature and how cryptic its commands and operation can be.\n",
    "- For the first part of this lesson, we will emulate the shell using Jupyter Notebooks.\n"
   ]
  }
 ],
 "metadata": {
  "kernelspec": {
   "display_name": "Python 3",
   "language": "python",
   "name": "python3"
  },
  "language_info": {
   "codemirror_mode": {
    "name": "ipython",
    "version": 3
   },
   "file_extension": ".py",
   "mimetype": "text/x-python",
   "name": "python",
   "nbconvert_exporter": "python",
   "pygments_lexer": "ipython3",
   "version": "3.9.12"
  }
 },
 "nbformat": 4,
 "nbformat_minor": 2
}
